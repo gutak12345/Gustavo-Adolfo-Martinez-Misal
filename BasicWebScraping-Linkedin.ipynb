{
  "nbformat": 4,
  "nbformat_minor": 0,
  "metadata": {
    "colab": {
      "name": "BasicWebScraping.ipynb",
      "provenance": [],
      "collapsed_sections": [],
      "include_colab_link": true
    },
    "kernelspec": {
      "name": "python3",
      "display_name": "Python 3"
    }
  },
  "cells": [
    {
      "cell_type": "markdown",
      "metadata": {
        "id": "view-in-github",
        "colab_type": "text"
      },
      "source": [
        "<a href=\"https://colab.research.google.com/github/gutak12345/Gustavo-Adolfo-Martinez-Misal/blob/master/BasicWebScraping-Linkedin.ipynb\" target=\"_parent\"><img src=\"https://colab.research.google.com/assets/colab-badge.svg\" alt=\"Open In Colab\"/></a>"
      ]
    },
    {
      "cell_type": "markdown",
      "metadata": {
        "id": "6Xd2QNl9I5uh"
      },
      "source": [
        "**Basic Web Scraping with Python**\n",
        "\n"
      ]
    },
    {
      "cell_type": "code",
      "metadata": {
        "id": "gHUGDTd1Iv55"
      },
      "source": [
        "from urllib.request import urlopen\n",
        "from urllib.error import HTTPError, URLError\n",
        "from bs4 import BeautifulSoup"
      ],
      "execution_count": null,
      "outputs": []
    },
    {
      "cell_type": "markdown",
      "metadata": {
        "id": "9IjvAUwXJFIQ"
      },
      "source": [
        "**Example 1: Get links**"
      ]
    },
    {
      "cell_type": "code",
      "metadata": {
        "id": "RFEHCgWlJVzy"
      },
      "source": [
        "def example1():\n",
        "  try:\n",
        "      html = urlopen(\"https://www.linkedin.com/feed/\")\n",
        "  except HTTPError as e:\n",
        "      print(e)\n",
        "  except URLError: \n",
        "      print(\"Error en la url\")\n",
        "  else:\n",
        "      res = BeautifulSoup(html.read(),\"html.parser\")\n",
        "      print(res.title)\n",
        "      tags = res.findAll(\"a\", href=True)\n",
        "      for tag in tags:\n",
        "        print(\"=\"*20)       \n",
        "        #print(tag)\n",
        "        print(tag.getText())        \n",
        "        print(tag['href'])\n",
        "\n",
        "example1()          "
      ],
      "execution_count": null,
      "outputs": []
    },
    {
      "cell_type": "markdown",
      "metadata": {
        "id": "t4gKV8qmJ0Ez"
      },
      "source": [
        "**Example 2: Get article links**"
      ]
    },
    {
      "cell_type": "code",
      "metadata": {
        "id": "KmicoSU-J0WP",
        "colab": {
          "base_uri": "https://localhost:8080/",
          "height": 1000
        },
        "outputId": "ec06dc9d-7bb9-4ddc-cd19-44a9edfbcc4c"
      },
      "source": [
        "def example2():\n",
        "  try:\n",
        "      html = urlopen(\"https://www.linkedin.com/feed/\")\n",
        "  except HTTPError as e:\n",
        "      print(e)\n",
        "  except URLError: \n",
        "      print(\"Error en la url\")\n",
        "  else:\n",
        "      res = BeautifulSoup(html.read(),\"html.parser\")     \n",
        "      tags = res.findAll(\"a\", {\"class\": \"article-h-link\"} )\n",
        "      for tag in tags:\n",
        "        print(\"=\"*20)    \n",
        "        print(tag)\n",
        "\n",
        "example2()        "
      ],
      "execution_count": null,
      "outputs": [
        {
          "output_type": "stream",
          "text": [
            "====================\n",
            "<a class=\"article-h-link \" href=\"/economia/articulo/cuanto-sera-el-presupuesto-para-cultura-en-colombia-en-2021/303522\">Ministerio de Cultura tendrá el presupuesto más alto de su historia en 2021</a>\n",
            "====================\n",
            "<a class=\"article-h-link \" href=\"/economia/articulo/el-mundo-se-recuperara-en-forma-de-k-segun-el-banco-mundial/303521\" target=\"_self\">Recuperación económica mundial sería en forma de K, según el BM</a>\n",
            "====================\n",
            "<a class=\"article-h-link \" href=\"/pais/articulo/casos-de-coronavirus-en-colombia-hoy-14-de-octubre-de-2020/303509\" target=\"_self\">Colombia sumó 6.061 casos nuevos de covid-19 este miércoles</a>\n",
            "====================\n",
            "<a class=\"article-h-link \" href=\"/pais/articulo/programa-para-estimular-contratacion-laboral-de-mujeres/303502\" target=\"_self\">Gobierno creará programa de incentivos para estimular contratación de mujeres</a>\n",
            "====================\n",
            "<a class=\"article-h-link \" href=\"/empresas/articulo/cuantas-tiendas-d1-hay-en-colombia/303494\" target=\"_self\">D1 prevé $8 billones en ventas este año tras completar 1.500 tiendas</a>\n",
            "====================\n",
            "<a class=\"article-h-link \" href=\"/empresas/galeria/destinos-de-playa-colombianos-para-visitar-en-vacaciones/303517\" target=\"_self\">Las cinco playas 'alternativas' de Colombia para visitar tras la reapertura</a>\n",
            "====================\n",
            "<a class=\"article-h-link \" href=\"/hablan-las-marcas/articulo/nuevos-paradigmas-en-el-analisis-de-riesgo-y-credito/302271\" target=\"_self\">Nuevos paradigmas en el análisis de riesgo y crédito</a>\n",
            "====================\n",
            "<a class=\"article-h-link \" href=\"https://www.semana.com/hablan-las-marcas/multimedia/el-edificio-corporativo-de-amarilo-un-icono-de-sostenibilidad/696926\" target=\"_blank\">El Edificio Corporativo de Amarilo: un ícono de sostenibilidad</a>\n",
            "====================\n",
            "<a class=\"article-h-link \" href=\"/hablan-las-marcas/articulo/estamos-convencidos-de-que-financiar-la-sostenibilidad-es-financiar-el-futuro/302012\" target=\"_self\">“Estamos convencidos de que financiar la sostenibilidad es financiar el futuro”</a>\n",
            "====================\n",
            "<a class=\"article-h-link \" href=\"/hablan-las-marcas/articulo/billeteras-y-bancos-digitales-a-la-medida/302005\" target=\"_self\">Billeteras y bancos digitales, a la medida     </a>\n",
            "====================\n",
            "<a class=\"article-h-link \" href=\"/hablan-las-marcas/articulo/la-nueva-era-de-la-proteccion-integral-para-las-pymes/301984\" target=\"_self\">La nueva era de la protección integral para las Pymes</a>\n",
            "====================\n",
            "<a class=\"article-h-link \" href=\"/hablan-las-marcas/articulo/de-cara-a-la-sociedad/301650\" target=\"_self\">De cara a la sociedad</a>\n",
            "====================\n",
            "<a class=\"article-h-link \" href=\"/hablan-las-marcas/articulo/ruta-a-la-estabilidad-empresarial/293835\" target=\"_self\">Ruta a la estabilidad empresarial </a>\n",
            "====================\n",
            "<a class=\"article-h-link \" href=\"https://www.semana.com/hablan-las-marcas/multimedia/la-recuperacion-del-bosque-seco-tropical/701824\" target=\"_blank\">La recuperación del bosque seco tropical</a>\n",
            "====================\n",
            "<a class=\"article-h-link \" href=\"/hablan-las-marcas/articulo/afp-porvenir-mas-digital/297175\" target=\"_self\">AFP Porvenir, más digital </a>\n",
            "====================\n",
            "<a class=\"article-h-link \" href=\"/inversionistas/articulo/tarjeta-de-credito-de-rappi-sin-cuota-de-manejo-llegara-en-diciembre-de-2020/303488\" target=\"_self\">Rappi también lanzará tarjeta de crédito sin cuota de manejo</a>\n",
            "====================\n",
            "<a class=\"article-h-link \" href=\"/podcast/finanzas-personales/articulo/consejos-y-recomendaciones-para-usar-la-tarjeta-de-credito/303433\" target=\"_self\">Finanzas personales: ¿Cómo usar la tarjeta de crédito de forma inteligente?</a>\n",
            "====================\n",
            "<a class=\"article-h-link \" href=\"/internacional/articulo/es-necesaria-la-prueba-de-coronavirus-para-viajes-no-esenciales/303467\" target=\"_self\">OPS: no son necesarias pruebas de covid para los viajes no esenciales</a>\n",
            "====================\n",
            "<a class=\"article-h-link \" href=\"/pais/articulo/cual-es-la-diferencia-entre-teletrabajo-y-trabajo-en-casa/303479\" target=\"_self\">Conozca las diferencias entre teletrabajo y trabajo en casa</a>\n",
            "====================\n",
            "<a class=\"article-h-link \" href=\"/internacional/articulo/reunion-del-g20-se-prolonga-por-seis-meses-la-moratoria-de-paises-pobres/303456\" target=\"_self\">G20 prolonga por seis meses la moratoria sobre la deuda de los países pobres</a>\n",
            "====================\n",
            "<a class=\"article-h-link \" href=\"/economia/articulo/gasto-de-los-hogares-colombianos-en-septiembre-de-2020/303450\" target=\"_self\">Gasto de los hogares colombianos aumentó 2,34% en septiembre</a>\n",
            "====================\n",
            "<a class=\"article-h-link \" href=\"/empresas/articulo/avances-del-proyecto-de-ley-del-turismo-en-colombia/303463\" target=\"_self\">Restrepo: proyecto de ley del turismo busca una mejor nueva normalidad</a>\n",
            "====================\n",
            "<a class=\"article-h-link \" href=\"/economia/articulo/cuanto-le-costara-a-colombia-la-vacuna-contra-el-coronavirus/303437\" target=\"_self\">Colombia ya separó los recursos para comprar vacuna contra la covid</a>\n",
            "====================\n",
            "<a class=\"article-h-link \" href=\"/empresas/articulo/que-paso-con-panaca-tas-la-pandemia-del-coronavirus/303434\" target=\"_self\">Supersociedades admitió en proceso de reorganización a Panaca</a>\n",
            "====================\n",
            "<a class=\"article-h-link \" href=\"/economia/articulo/como-va-el-desembolso-de-creditos-en-octubre-de-2020/303431\" target=\"_self\">Desembolso de créditos se aceleró en la primera semana de octubre</a>\n",
            "====================\n",
            "<a class=\"article-h-link \" href=\"/tecnologia/articulo/colombina-lidera-su-transformacion-tecnologica-con-apoyo-de-ibm/303341\" target=\"_self\">Colombina migró 20 años de información en 56 horas con apoyo de IBM</a>\n",
            "====================\n",
            "<a class=\"article-h-link \" href=\"/economia/articulo/credito-del-fondo-monetario-internacional-a-colombia/303329\" target=\"_self\">A Moody’s tampoco le disgusta un desembolso del FMI a Colombia</a>\n",
            "====================\n",
            "<a class=\"article-h-link \" href=\"/internacional/articulo/europa-se-prepara-para-nuevas-restricciones-ante-una-pandemia-que-no-cede/303336\" target=\"_self\">Europa se prepara para nuevas restricciones ante una pandemia que no cede</a>\n",
            "====================\n",
            "<a class=\"article-h-link \" href=\"/empresas/articulo/como-funciona-la-regulacion-de-publicidad-en-redes-sociales/303492\" target=\"_self\">Anunciantes invitan a influenciadores a ser más transparentes con el consumidor</a>\n",
            "====================\n",
            "<a class=\"article-h-link \" href=\"/inversionistas/articulo/como-va-la-integracion-de-las-bolsas-de-colombia-peru-y-chile/303478\" target=\"_self\">Bolsas de Colombia, Perú y Chile avanzan en posible integración</a>\n",
            "====================\n",
            "<a class=\"article-h-link \" href=\"/pais/articulo/presupuesto-de-las-alcaldia-locales-de-bogota-veeduria-advierte-baja-ejecucion/303483\" target=\"_self\">Ejecución presupuestal de las localidades de Bogotá es baja</a>\n",
            "====================\n",
            "<a class=\"article-h-link \" href=\"/empresas/articulo/cuanto-son-las-ventas-del-comercio-electronico-en-colombia-en-2020/303461\" target=\"_self\">Ventas del comercio electrónico se incrementaron un 25,3% hasta agosto</a>\n",
            "====================\n",
            "<a class=\"article-h-link \" href=\"/economia/articulo/cuanto-valdra-la-cosecha-cafetera-de-colombia-en-2020/303352\" target=\"_self\">Valor de la cosecha cafetera de Colombia alcanzaría récord en 2020</a>\n",
            "====================\n",
            "<a class=\"article-h-link \" href=\"/economia/articulo/tarjetas-de-credito-en-colombia-consejos-y-recomendaciones-para-utilizarlas/303237\" target=\"_self\">Finanzas personales: ¿Cómo usar la tarjeta de crédito de forma inteligente?</a>\n",
            "====================\n",
            "<a class=\"article-h-link \" href=\"/empresas/articulo/cuales-son-los-derechos-de-los-pasajeros-frente-a-las-aerolineas/303340\" target=\"_self\">Estos son los derechos que tienen los pasajeros ante las aerolíneas</a>\n",
            "====================\n",
            "<a class=\"article-h-link \" href=\"/internacional/articulo/cuanto-es-la-deuda-publica-mundial-segun-el-fmi/303347\" target=\"_self\">FMI alerta que covid-19 llevó a la deuda pública mundial a máximo histórico</a>\n",
            "====================\n",
            "<a class=\"article-h-link \" href=\"/inversionistas/articulo/calificaciones-soberanas-de-fitch-en-epoca-de-pandemia/303338\" target=\"_self\">Más de la mitad de las calificaciones de Fitch tienen perspectiva negativa</a>\n",
            "====================\n",
            "<a class=\"article-h-link \" href=\"/management/articulo/como-mejorar-la-comunicacion-entre-jefes-y-empleados/303339\" target=\"_self\">Seis claves para mejorar la comunicación entre los jefes y los empleados</a>\n",
            "====================\n",
            "<a class=\"article-h-link \" href=\"/empresas/articulo/como-liquidar-una-empresa-en-colombia/303334\" target=\"_self\">Lo que debe tener en cuenta para liquidar una empresa en Colombia </a>\n",
            "====================\n",
            "<a class=\"article-h-link \" href=\"/management/articulo/cuanto-dinero-ganan-los-ciclistas/301808\" target=\"_self\">¿Cuánto dinero mueve el ciclismo?</a>\n",
            "====================\n",
            "<a class=\"article-h-link \" href=\"http://especiales.dinero.com/las-5000-empresas-mas-grandes-de-colombia-en-2019/\" target=\"_blank\">Especial: las 5.000 empresas más grandes de Colombia</a>\n",
            "====================\n",
            "<a class=\"article-h-link \" href=\"/empresas/articulo/cuales-son-las-grandes-corporaciones-mas-golpeadas-por-la-pandemia/300121\" target=\"_self\">Las grandes corporaciones más golpeadas por la pandemia</a>\n",
            "====================\n",
            "<a class=\"article-h-link \" href=\"/empresas/articulo/crecimiento-y-poder-de-facebook-google-amazon-y-apple-en-pandemia/297680\" target=\"_self\">En cifras: Así han crecido Facebook, Google, Amazon y Apple en la pandemia</a>\n",
            "====================\n",
            "<a class=\"article-h-link \" href=\"https://www.finanzaspersonales.co/impuestos/articulo/podcast-sobre-impuestos-en-mentes-de-acero-programa-de-paul-raminfar/80624\" target=\"_blank\">En Mentes de Acero, aprendamos más de impuestos</a>\n"
          ],
          "name": "stdout"
        }
      ]
    }
  ]
}