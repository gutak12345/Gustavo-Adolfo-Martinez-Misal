{
  "nbformat": 4,
  "nbformat_minor": 0,
  "metadata": {
    "colab": {
      "name": "Taller 1 (Parte 1)",
      "provenance": [],
      "collapsed_sections": [],
      "authorship_tag": "ABX9TyNy7tw3FOi3weZqI6i/EDHI",
      "include_colab_link": true
    },
    "kernelspec": {
      "name": "python3",
      "display_name": "Python 3"
    }
  },
  "cells": [
    {
      "cell_type": "markdown",
      "metadata": {
        "id": "view-in-github",
        "colab_type": "text"
      },
      "source": [
        "<a href=\"https://colab.research.google.com/github/gutak12345/Gustavo-Adolfo-Martinez-Misal/blob/master/Taller_1_(Parte_1).ipynb\" target=\"_parent\"><img src=\"https://colab.research.google.com/assets/colab-badge.svg\" alt=\"Open In Colab\"/></a>"
      ]
    },
    {
      "cell_type": "markdown",
      "metadata": {
        "id": "tW26Wyf7w-4j",
        "colab_type": "text"
      },
      "source": [
        "\n",
        "#Taller de clase python\n",
        "###Gustavo Adolfo Martinez Misal\n",
        " **1  parte** \n",
        " \n",
        " *bogota d.c 2020*"
      ]
    },
    {
      "cell_type": "code",
      "metadata": {
        "id": "n6qXQ3yaXfZH",
        "colab_type": "code",
        "colab": {}
      },
      "source": [
        ""
      ],
      "execution_count": 0,
      "outputs": []
    },
    {
      "cell_type": "code",
      "metadata": {
        "id": "pxCk5JsHvV3T",
        "colab_type": "code",
        "colab": {}
      },
      "source": [
        "import numpy as np"
      ],
      "execution_count": 0,
      "outputs": []
    },
    {
      "cell_type": "code",
      "metadata": {
        "id": "Oeqo9lFbvcLa",
        "colab_type": "code",
        "outputId": "693b2b63-fc75-42dd-ff73-2b4cc6d9abbc",
        "colab": {
          "base_uri": "https://localhost:8080/",
          "height": 34
        }
      },
      "source": [
        "# 1 vector (entre 1 y 10 )\n",
        "a = np.random.randint(4, size=10)\n",
        "print (a)"
      ],
      "execution_count": 0,
      "outputs": [
        {
          "output_type": "stream",
          "text": [
            "[3 1 2 2 1 1 0 2 1 3]\n"
          ],
          "name": "stdout"
        }
      ]
    },
    {
      "cell_type": "code",
      "metadata": {
        "id": "bEzjeQxJvg26",
        "colab_type": "code",
        "outputId": "9d1f2218-bfd7-4a29-904c-f541d336a0c5",
        "colab": {
          "base_uri": "https://localhost:8080/",
          "height": 34
        }
      },
      "source": [
        "# 2 vector (entre 1 y 10 )\n",
        "b = np.random.randint(5, size=10)\n",
        "print (b)"
      ],
      "execution_count": 0,
      "outputs": [
        {
          "output_type": "stream",
          "text": [
            "[1 3 2 2 3 0 3 2 2 2]\n"
          ],
          "name": "stdout"
        }
      ]
    },
    {
      "cell_type": "code",
      "metadata": {
        "id": "LYxVSpmQvjaC",
        "colab_type": "code",
        "outputId": "c7ecd6ef-e26b-4b88-8b62-bc1d4b755ed2",
        "colab": {
          "base_uri": "https://localhost:8080/",
          "height": 34
        }
      },
      "source": [
        "# suma de vectores\n",
        "c=(a + b)\n",
        "print (c)"
      ],
      "execution_count": 0,
      "outputs": [
        {
          "output_type": "stream",
          "text": [
            "[4 4 4 4 4 1 3 4 3 5]\n"
          ],
          "name": "stdout"
        }
      ]
    },
    {
      "cell_type": "code",
      "metadata": {
        "id": "w--03zBVvl0j",
        "colab_type": "code",
        "outputId": "c1da0228-df7d-44b3-8226-7b167bd883b0",
        "colab": {
          "base_uri": "https://localhost:8080/",
          "height": 34
        }
      },
      "source": [
        "# concatenar los vectores\n",
        "np.concatenate((a , b))"
      ],
      "execution_count": 0,
      "outputs": [
        {
          "output_type": "execute_result",
          "data": {
            "text/plain": [
              "array([3, 1, 2, 2, 1, 1, 0, 2, 1, 3, 1, 3, 2, 2, 3, 0, 3, 2, 2, 2])"
            ]
          },
          "metadata": {
            "tags": []
          },
          "execution_count": 7
        }
      ]
    },
    {
      "cell_type": "code",
      "metadata": {
        "id": "BVT4pxWdvpaK",
        "colab_type": "code",
        "outputId": "d55116d1-d087-4f94-be60-c63cdea96c9c",
        "colab": {
          "base_uri": "https://localhost:8080/",
          "height": 34
        }
      },
      "source": [
        "# encontrar la media ( vectores concatenados)\n",
        "\n",
        "import statistics as stats\n",
        "\n",
        "media = [1, 2, 0, 2, 2, 1, 3, 3, 3, 1, 0, 2, 2, 3, 1, 0, 4, 2, 1, 3]\n",
        "print(stats.mean(media))  "
      ],
      "execution_count": 0,
      "outputs": [
        {
          "output_type": "stream",
          "text": [
            "1.8\n"
          ],
          "name": "stdout"
        }
      ]
    },
    {
      "cell_type": "code",
      "metadata": {
        "id": "QV9rcw19vt5K",
        "colab_type": "code",
        "outputId": "9f35d6a9-c885-496b-8847-c6209929bb30",
        "colab": {
          "base_uri": "https://localhost:8080/",
          "height": 51
        }
      },
      "source": [
        "#numeros mayores y minimos\n",
        "\n",
        "vector = [1, 2, 0, 2, 2, 1, 3, 3, 3, 1, 0, 2, 2, 3, 1, 0, 4, 2, 1, 3]\n",
        "min = max = vector[0]\n",
        "for vector in vector:\n",
        "    if vector < min:\n",
        "        min = vector\n",
        "    elif vector > max:\n",
        "        max = vector \n",
        "print(\"El mínimo es \" + str(min)) \n",
        "print(\"El máximo es \" + str(max))"
      ],
      "execution_count": 0,
      "outputs": [
        {
          "output_type": "stream",
          "text": [
            "El mínimo es 0\n",
            "El máximo es 4\n"
          ],
          "name": "stdout"
        }
      ]
    }
  ]
}